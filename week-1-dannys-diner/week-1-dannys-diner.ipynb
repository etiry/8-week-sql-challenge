{
 "cells": [
  {
   "cell_type": "code",
   "execution_count": 39,
   "metadata": {},
   "outputs": [],
   "source": [
    "#!pip install ipython-sql"
   ]
  },
  {
   "cell_type": "code",
   "execution_count": 1,
   "metadata": {},
   "outputs": [],
   "source": [
    "%load_ext sql"
   ]
  },
  {
   "cell_type": "code",
   "execution_count": 2,
   "metadata": {},
   "outputs": [],
   "source": [
    "%sql sqlite://"
   ]
  },
  {
   "cell_type": "code",
   "execution_count": 3,
   "metadata": {},
   "outputs": [
    {
     "name": "stdout",
     "output_type": "stream",
     "text": [
      " * sqlite://\n",
      "Done.\n",
      "15 rows affected.\n",
      "Done.\n",
      "3 rows affected.\n",
      "Done.\n",
      "2 rows affected.\n"
     ]
    },
    {
     "data": {
      "text/plain": [
       "[]"
      ]
     },
     "execution_count": 3,
     "metadata": {},
     "output_type": "execute_result"
    }
   ],
   "source": [
    "%%sql\n",
    "\n",
    "CREATE TABLE sales (\n",
    "  \"customer_id\" VARCHAR(1),\n",
    "  \"order_date\" DATE,\n",
    "  \"product_id\" INTEGER\n",
    ");\n",
    "\n",
    "INSERT INTO sales\n",
    "  (\"customer_id\", \"order_date\", \"product_id\")\n",
    "VALUES\n",
    "  ('A', '2021-01-01', '1'),\n",
    "  ('A', '2021-01-01', '2'),\n",
    "  ('A', '2021-01-07', '2'),\n",
    "  ('A', '2021-01-10', '3'),\n",
    "  ('A', '2021-01-11', '3'),\n",
    "  ('A', '2021-01-11', '3'),\n",
    "  ('B', '2021-01-01', '2'),\n",
    "  ('B', '2021-01-02', '2'),\n",
    "  ('B', '2021-01-04', '1'),\n",
    "  ('B', '2021-01-11', '1'),\n",
    "  ('B', '2021-01-16', '3'),\n",
    "  ('B', '2021-02-01', '3'),\n",
    "  ('C', '2021-01-01', '3'),\n",
    "  ('C', '2021-01-01', '3'),\n",
    "  ('C', '2021-01-07', '3');\n",
    " \n",
    "\n",
    "CREATE TABLE menu (\n",
    "  \"product_id\" INTEGER,\n",
    "  \"product_name\" VARCHAR(5),\n",
    "  \"price\" INTEGER\n",
    ");\n",
    "\n",
    "INSERT INTO menu\n",
    "  (\"product_id\", \"product_name\", \"price\")\n",
    "VALUES\n",
    "  ('1', 'sushi', '10'),\n",
    "  ('2', 'curry', '15'),\n",
    "  ('3', 'ramen', '12');\n",
    "  \n",
    "\n",
    "CREATE TABLE members (\n",
    "  \"customer_id\" VARCHAR(1),\n",
    "  \"join_date\" DATE\n",
    ");\n",
    "\n",
    "INSERT INTO members\n",
    "  (\"customer_id\", \"join_date\")\n",
    "VALUES\n",
    "  ('A', '2021-01-07'),\n",
    "  ('B', '2021-01-09');"
   ]
  },
  {
   "cell_type": "code",
   "execution_count": 11,
   "metadata": {},
   "outputs": [
    {
     "name": "stdout",
     "output_type": "stream",
     "text": [
      " * sqlite://\n",
      "Done.\n"
     ]
    },
    {
     "data": {
      "text/html": [
       "<table>\n",
       "    <tr>\n",
       "        <th>customer_id</th>\n",
       "        <th>order_date</th>\n",
       "        <th>product_id</th>\n",
       "    </tr>\n",
       "    <tr>\n",
       "        <td>A</td>\n",
       "        <td>2021-01-01</td>\n",
       "        <td>1</td>\n",
       "    </tr>\n",
       "    <tr>\n",
       "        <td>A</td>\n",
       "        <td>2021-01-01</td>\n",
       "        <td>2</td>\n",
       "    </tr>\n",
       "    <tr>\n",
       "        <td>A</td>\n",
       "        <td>2021-01-07</td>\n",
       "        <td>2</td>\n",
       "    </tr>\n",
       "    <tr>\n",
       "        <td>A</td>\n",
       "        <td>2021-01-10</td>\n",
       "        <td>3</td>\n",
       "    </tr>\n",
       "    <tr>\n",
       "        <td>A</td>\n",
       "        <td>2021-01-11</td>\n",
       "        <td>3</td>\n",
       "    </tr>\n",
       "    <tr>\n",
       "        <td>A</td>\n",
       "        <td>2021-01-11</td>\n",
       "        <td>3</td>\n",
       "    </tr>\n",
       "    <tr>\n",
       "        <td>B</td>\n",
       "        <td>2021-01-01</td>\n",
       "        <td>2</td>\n",
       "    </tr>\n",
       "    <tr>\n",
       "        <td>B</td>\n",
       "        <td>2021-01-02</td>\n",
       "        <td>2</td>\n",
       "    </tr>\n",
       "    <tr>\n",
       "        <td>B</td>\n",
       "        <td>2021-01-04</td>\n",
       "        <td>1</td>\n",
       "    </tr>\n",
       "    <tr>\n",
       "        <td>B</td>\n",
       "        <td>2021-01-11</td>\n",
       "        <td>1</td>\n",
       "    </tr>\n",
       "    <tr>\n",
       "        <td>B</td>\n",
       "        <td>2021-01-16</td>\n",
       "        <td>3</td>\n",
       "    </tr>\n",
       "    <tr>\n",
       "        <td>B</td>\n",
       "        <td>2021-02-01</td>\n",
       "        <td>3</td>\n",
       "    </tr>\n",
       "    <tr>\n",
       "        <td>C</td>\n",
       "        <td>2021-01-01</td>\n",
       "        <td>3</td>\n",
       "    </tr>\n",
       "    <tr>\n",
       "        <td>C</td>\n",
       "        <td>2021-01-01</td>\n",
       "        <td>3</td>\n",
       "    </tr>\n",
       "    <tr>\n",
       "        <td>C</td>\n",
       "        <td>2021-01-07</td>\n",
       "        <td>3</td>\n",
       "    </tr>\n",
       "</table>"
      ],
      "text/plain": [
       "[('A', '2021-01-01', 1),\n",
       " ('A', '2021-01-01', 2),\n",
       " ('A', '2021-01-07', 2),\n",
       " ('A', '2021-01-10', 3),\n",
       " ('A', '2021-01-11', 3),\n",
       " ('A', '2021-01-11', 3),\n",
       " ('B', '2021-01-01', 2),\n",
       " ('B', '2021-01-02', 2),\n",
       " ('B', '2021-01-04', 1),\n",
       " ('B', '2021-01-11', 1),\n",
       " ('B', '2021-01-16', 3),\n",
       " ('B', '2021-02-01', 3),\n",
       " ('C', '2021-01-01', 3),\n",
       " ('C', '2021-01-01', 3),\n",
       " ('C', '2021-01-07', 3)]"
      ]
     },
     "execution_count": 11,
     "metadata": {},
     "output_type": "execute_result"
    }
   ],
   "source": [
    "%%sql\n",
    "SELECT * \n",
    "FROM sales;"
   ]
  },
  {
   "cell_type": "code",
   "execution_count": 12,
   "metadata": {},
   "outputs": [
    {
     "name": "stdout",
     "output_type": "stream",
     "text": [
      " * sqlite://\n",
      "Done.\n"
     ]
    },
    {
     "data": {
      "text/html": [
       "<table>\n",
       "    <tr>\n",
       "        <th>product_id</th>\n",
       "        <th>product_name</th>\n",
       "        <th>price</th>\n",
       "    </tr>\n",
       "    <tr>\n",
       "        <td>1</td>\n",
       "        <td>sushi</td>\n",
       "        <td>10</td>\n",
       "    </tr>\n",
       "    <tr>\n",
       "        <td>2</td>\n",
       "        <td>curry</td>\n",
       "        <td>15</td>\n",
       "    </tr>\n",
       "    <tr>\n",
       "        <td>3</td>\n",
       "        <td>ramen</td>\n",
       "        <td>12</td>\n",
       "    </tr>\n",
       "</table>"
      ],
      "text/plain": [
       "[(1, 'sushi', 10), (2, 'curry', 15), (3, 'ramen', 12)]"
      ]
     },
     "execution_count": 12,
     "metadata": {},
     "output_type": "execute_result"
    }
   ],
   "source": [
    "%%sql\n",
    "SELECT * \n",
    "FROM menu;"
   ]
  },
  {
   "cell_type": "code",
   "execution_count": 13,
   "metadata": {},
   "outputs": [
    {
     "name": "stdout",
     "output_type": "stream",
     "text": [
      " * sqlite://\n",
      "Done.\n"
     ]
    },
    {
     "data": {
      "text/html": [
       "<table>\n",
       "    <tr>\n",
       "        <th>customer_id</th>\n",
       "        <th>join_date</th>\n",
       "    </tr>\n",
       "    <tr>\n",
       "        <td>A</td>\n",
       "        <td>2021-01-07</td>\n",
       "    </tr>\n",
       "    <tr>\n",
       "        <td>B</td>\n",
       "        <td>2021-01-09</td>\n",
       "    </tr>\n",
       "</table>"
      ],
      "text/plain": [
       "[('A', '2021-01-07'), ('B', '2021-01-09')]"
      ]
     },
     "execution_count": 13,
     "metadata": {},
     "output_type": "execute_result"
    }
   ],
   "source": [
    "%%sql\n",
    "SELECT * \n",
    "FROM members;"
   ]
  },
  {
   "cell_type": "markdown",
   "metadata": {},
   "source": [
    "# Question 1: What is the total amount each customer spent at the restaurant?"
   ]
  },
  {
   "cell_type": "code",
   "execution_count": 40,
   "metadata": {},
   "outputs": [
    {
     "name": "stdout",
     "output_type": "stream",
     "text": [
      " * sqlite://\n",
      "Done.\n"
     ]
    },
    {
     "data": {
      "text/html": [
       "<table>\n",
       "    <tr>\n",
       "        <th>customer_id</th>\n",
       "        <th>total_spent</th>\n",
       "    </tr>\n",
       "    <tr>\n",
       "        <td>A</td>\n",
       "        <td>76</td>\n",
       "    </tr>\n",
       "    <tr>\n",
       "        <td>B</td>\n",
       "        <td>74</td>\n",
       "    </tr>\n",
       "    <tr>\n",
       "        <td>C</td>\n",
       "        <td>36</td>\n",
       "    </tr>\n",
       "</table>"
      ],
      "text/plain": [
       "[('A', 76), ('B', 74), ('C', 36)]"
      ]
     },
     "execution_count": 40,
     "metadata": {},
     "output_type": "execute_result"
    }
   ],
   "source": [
    "%%sql\n",
    "SELECT s.customer_id,\n",
    "    SUM(m.price) AS total_spent\n",
    "FROM sales AS s\n",
    "LEFT JOIN menu AS m\n",
    "ON s.product_id = m.product_id\n",
    "GROUP BY s.customer_id;"
   ]
  },
  {
   "cell_type": "markdown",
   "metadata": {},
   "source": [
    "# Question 2: How many days has each customer visited the restaurant?"
   ]
  },
  {
   "cell_type": "code",
   "execution_count": 41,
   "metadata": {},
   "outputs": [
    {
     "name": "stdout",
     "output_type": "stream",
     "text": [
      " * sqlite://\n",
      "Done.\n"
     ]
    },
    {
     "data": {
      "text/html": [
       "<table>\n",
       "    <tr>\n",
       "        <th>customer_id</th>\n",
       "        <th>num_days_visited</th>\n",
       "    </tr>\n",
       "    <tr>\n",
       "        <td>A</td>\n",
       "        <td>4</td>\n",
       "    </tr>\n",
       "    <tr>\n",
       "        <td>B</td>\n",
       "        <td>6</td>\n",
       "    </tr>\n",
       "    <tr>\n",
       "        <td>C</td>\n",
       "        <td>2</td>\n",
       "    </tr>\n",
       "</table>"
      ],
      "text/plain": [
       "[('A', 4), ('B', 6), ('C', 2)]"
      ]
     },
     "execution_count": 41,
     "metadata": {},
     "output_type": "execute_result"
    }
   ],
   "source": [
    "%%sql\n",
    "SELECT customer_id,\n",
    "    COUNT(DISTINCT order_date) AS num_days_visited\n",
    "FROM sales\n",
    "GROUP BY customer_id;"
   ]
  },
  {
   "cell_type": "markdown",
   "metadata": {},
   "source": [
    "# Question 3: What was the first item from the menu purchased by each customer?"
   ]
  },
  {
   "cell_type": "code",
   "execution_count": 42,
   "metadata": {},
   "outputs": [
    {
     "name": "stdout",
     "output_type": "stream",
     "text": [
      " * sqlite://\n",
      "Done.\n"
     ]
    },
    {
     "data": {
      "text/html": [
       "<table>\n",
       "    <tr>\n",
       "        <th>customer_id</th>\n",
       "        <th>product_name</th>\n",
       "    </tr>\n",
       "    <tr>\n",
       "        <td>A</td>\n",
       "        <td>curry</td>\n",
       "    </tr>\n",
       "    <tr>\n",
       "        <td>A</td>\n",
       "        <td>sushi</td>\n",
       "    </tr>\n",
       "    <tr>\n",
       "        <td>B</td>\n",
       "        <td>curry</td>\n",
       "    </tr>\n",
       "    <tr>\n",
       "        <td>C</td>\n",
       "        <td>ramen</td>\n",
       "    </tr>\n",
       "</table>"
      ],
      "text/plain": [
       "[('A', 'curry'), ('A', 'sushi'), ('B', 'curry'), ('C', 'ramen')]"
      ]
     },
     "execution_count": 42,
     "metadata": {},
     "output_type": "execute_result"
    }
   ],
   "source": [
    "%%sql\n",
    "WITH ranked_orders AS (\n",
    "    SELECT DENSE_RANK() OVER(PARTITION BY s.customer_id ORDER BY s.order_date) AS rank,\n",
    "        s.customer_id,\n",
    "        s.order_date,\n",
    "        m.product_name\n",
    "    FROM sales AS s\n",
    "    LEFT JOIN menu AS m\n",
    "    ON s.product_id = m.product_id)\n",
    "\n",
    "SELECT customer_id,\n",
    "       product_name\n",
    "FROM ranked_orders\n",
    "WHERE rank = 1\n",
    "GROUP BY customer_id, product_name;"
   ]
  },
  {
   "cell_type": "markdown",
   "metadata": {},
   "source": [
    "# Question 4: What is the most purchased item on the menu and how many times was it purchased by all customers?"
   ]
  },
  {
   "cell_type": "code",
   "execution_count": 44,
   "metadata": {},
   "outputs": [
    {
     "name": "stdout",
     "output_type": "stream",
     "text": [
      " * sqlite://\n",
      "Done.\n"
     ]
    },
    {
     "data": {
      "text/html": [
       "<table>\n",
       "    <tr>\n",
       "        <th>product_name</th>\n",
       "        <th>times_ordered</th>\n",
       "    </tr>\n",
       "    <tr>\n",
       "        <td>ramen</td>\n",
       "        <td>8</td>\n",
       "    </tr>\n",
       "</table>"
      ],
      "text/plain": [
       "[('ramen', 8)]"
      ]
     },
     "execution_count": 44,
     "metadata": {},
     "output_type": "execute_result"
    }
   ],
   "source": [
    "%%sql\n",
    "SELECT product_name,\n",
    "    MAX(times_ordered) AS times_ordered\n",
    "FROM (SELECT s.product_id,\n",
    "      m.product_name,\n",
    "      COUNT(*) AS times_ordered\n",
    "      FROM sales AS s\n",
    "      LEFT JOIN menu AS m\n",
    "      ON s.product_id = m.product_id\n",
    "      GROUP BY s.product_id);"
   ]
  },
  {
   "cell_type": "markdown",
   "metadata": {},
   "source": [
    "# Question 5: Which item was the most popular for each customer?"
   ]
  },
  {
   "cell_type": "code",
   "execution_count": 45,
   "metadata": {},
   "outputs": [
    {
     "name": "stdout",
     "output_type": "stream",
     "text": [
      " * sqlite://\n",
      "Done.\n"
     ]
    },
    {
     "data": {
      "text/html": [
       "<table>\n",
       "    <tr>\n",
       "        <th>customer_id</th>\n",
       "        <th>product_name</th>\n",
       "        <th>order_count</th>\n",
       "    </tr>\n",
       "    <tr>\n",
       "        <td>A</td>\n",
       "        <td>ramen</td>\n",
       "        <td>3</td>\n",
       "    </tr>\n",
       "    <tr>\n",
       "        <td>B</td>\n",
       "        <td>curry</td>\n",
       "        <td>2</td>\n",
       "    </tr>\n",
       "    <tr>\n",
       "        <td>B</td>\n",
       "        <td>ramen</td>\n",
       "        <td>2</td>\n",
       "    </tr>\n",
       "    <tr>\n",
       "        <td>B</td>\n",
       "        <td>sushi</td>\n",
       "        <td>2</td>\n",
       "    </tr>\n",
       "    <tr>\n",
       "        <td>C</td>\n",
       "        <td>ramen</td>\n",
       "        <td>3</td>\n",
       "    </tr>\n",
       "</table>"
      ],
      "text/plain": [
       "[('A', 'ramen', 3),\n",
       " ('B', 'curry', 2),\n",
       " ('B', 'ramen', 2),\n",
       " ('B', 'sushi', 2),\n",
       " ('C', 'ramen', 3)]"
      ]
     },
     "execution_count": 45,
     "metadata": {},
     "output_type": "execute_result"
    }
   ],
   "source": [
    "%%sql\n",
    "WITH ranked_items AS (\n",
    "    SELECT s.customer_id, \n",
    "           m.product_name,\n",
    "           COUNT(m.product_id) AS order_count,\n",
    "           DENSE_RANK() OVER(PARTITION BY s.customer_id ORDER BY COUNT(s.customer_id) DESC) AS rank\n",
    "    FROM menu AS m\n",
    "    JOIN sales AS s\n",
    "    ON m.product_id = s.product_id\n",
    "    GROUP BY s.customer_id, m.product_name)\n",
    "\n",
    "SELECT customer_id, product_name, order_count\n",
    "FROM ranked_items \n",
    "WHERE rank = 1;"
   ]
  },
  {
   "cell_type": "markdown",
   "metadata": {},
   "source": [
    "# Question 6: Which item was purchased first by the customer after they became a member?"
   ]
  },
  {
   "cell_type": "code",
   "execution_count": 46,
   "metadata": {},
   "outputs": [
    {
     "name": "stdout",
     "output_type": "stream",
     "text": [
      " * sqlite://\n",
      "Done.\n"
     ]
    },
    {
     "data": {
      "text/html": [
       "<table>\n",
       "    <tr>\n",
       "        <th>customer_id</th>\n",
       "        <th>order_date</th>\n",
       "        <th>first_member_order</th>\n",
       "    </tr>\n",
       "    <tr>\n",
       "        <td>A</td>\n",
       "        <td>2021-01-07</td>\n",
       "        <td>curry</td>\n",
       "    </tr>\n",
       "    <tr>\n",
       "        <td>B</td>\n",
       "        <td>2021-01-11</td>\n",
       "        <td>sushi</td>\n",
       "    </tr>\n",
       "</table>"
      ],
      "text/plain": [
       "[('A', '2021-01-07', 'curry'), ('B', '2021-01-11', 'sushi')]"
      ]
     },
     "execution_count": 46,
     "metadata": {},
     "output_type": "execute_result"
    }
   ],
   "source": [
    "%%sql\n",
    "WITH member_sales AS (\n",
    "    SELECT DENSE_RANK() OVER(PARTITION BY s.customer_id ORDER BY s.order_date) AS rank,\n",
    "        s.customer_id,\n",
    "        s.order_date,\n",
    "        m.join_date,\n",
    "        s.product_id\n",
    "    FROM sales AS s\n",
    "    LEFT JOIN members AS m\n",
    "    ON s.customer_id = m.customer_id\n",
    "    WHERE s.order_date>=m.join_date)\n",
    "\n",
    "SELECT customer_id, \n",
    "       order_date,\n",
    "       product_name AS first_member_order\n",
    "    FROM member_sales\n",
    "    LEFT JOIN menu\n",
    "    ON member_sales.product_id=menu.product_id\n",
    "    WHERE rank = 1;"
   ]
  },
  {
   "cell_type": "markdown",
   "metadata": {},
   "source": [
    "# Question 7: Which item was purchased just before the customer became a member?"
   ]
  },
  {
   "cell_type": "code",
   "execution_count": 47,
   "metadata": {},
   "outputs": [
    {
     "name": "stdout",
     "output_type": "stream",
     "text": [
      " * sqlite://\n",
      "Done.\n"
     ]
    },
    {
     "data": {
      "text/html": [
       "<table>\n",
       "    <tr>\n",
       "        <th>customer_id</th>\n",
       "        <th>order_date</th>\n",
       "        <th>last_non_member_order</th>\n",
       "    </tr>\n",
       "    <tr>\n",
       "        <td>A</td>\n",
       "        <td>2021-01-01</td>\n",
       "        <td>sushi</td>\n",
       "    </tr>\n",
       "    <tr>\n",
       "        <td>A</td>\n",
       "        <td>2021-01-01</td>\n",
       "        <td>curry</td>\n",
       "    </tr>\n",
       "    <tr>\n",
       "        <td>B</td>\n",
       "        <td>2021-01-04</td>\n",
       "        <td>sushi</td>\n",
       "    </tr>\n",
       "</table>"
      ],
      "text/plain": [
       "[('A', '2021-01-01', 'sushi'),\n",
       " ('A', '2021-01-01', 'curry'),\n",
       " ('B', '2021-01-04', 'sushi')]"
      ]
     },
     "execution_count": 47,
     "metadata": {},
     "output_type": "execute_result"
    }
   ],
   "source": [
    "%%sql\n",
    "WITH non_member_sales AS (\n",
    "    SELECT DENSE_RANK() OVER(PARTITION BY s.customer_id ORDER BY order_date DESC) AS rank,\n",
    "        s.customer_id,\n",
    "        s.order_date,\n",
    "        m.join_date,\n",
    "        s.product_id\n",
    "    FROM sales AS s\n",
    "    LEFT JOIN members AS m\n",
    "    ON s.customer_id = m.customer_id\n",
    "    WHERE s.order_date < m.join_date)\n",
    "\n",
    "SELECT customer_id, \n",
    "       order_date,\n",
    "       product_name AS last_non_member_order\n",
    "    FROM non_member_sales\n",
    "    LEFT JOIN menu\n",
    "    ON non_member_sales.product_id=menu.product_id\n",
    "    WHERE rank = 1;"
   ]
  },
  {
   "cell_type": "markdown",
   "metadata": {},
   "source": [
    "# Question 8: What is the total items and amount spent for each member before they became a member?"
   ]
  },
  {
   "cell_type": "code",
   "execution_count": 13,
   "metadata": {},
   "outputs": [
    {
     "name": "stdout",
     "output_type": "stream",
     "text": [
      " * sqlite://\n",
      "Done.\n"
     ]
    },
    {
     "data": {
      "text/html": [
       "<table>\n",
       "    <tr>\n",
       "        <th>customer_id</th>\n",
       "        <th>total_items</th>\n",
       "        <th>amount_spent</th>\n",
       "    </tr>\n",
       "    <tr>\n",
       "        <td>A</td>\n",
       "        <td>2</td>\n",
       "        <td>25</td>\n",
       "    </tr>\n",
       "    <tr>\n",
       "        <td>B</td>\n",
       "        <td>3</td>\n",
       "        <td>40</td>\n",
       "    </tr>\n",
       "</table>"
      ],
      "text/plain": [
       "[('A', 2, 25), ('B', 3, 40)]"
      ]
     },
     "execution_count": 13,
     "metadata": {},
     "output_type": "execute_result"
    }
   ],
   "source": [
    "%%sql\n",
    "WITH non_member_sales AS (\n",
    "    SELECT s.customer_id,\n",
    "           s.order_date,\n",
    "           m.join_date,\n",
    "           s.product_id\n",
    "    FROM sales AS s\n",
    "    LEFT JOIN members AS m\n",
    "    ON s.customer_id = m.customer_id\n",
    "    WHERE s.order_date < m.join_date)\n",
    "\n",
    "SELECT nms.customer_id,\n",
    "       COUNT(nms.order_date) AS total_items,\n",
    "       SUM(m2.price) AS amount_spent\n",
    "FROM non_member_sales AS nms\n",
    "LEFT JOIN menu AS m2\n",
    "ON nms.product_id = m2.product_id\n",
    "GROUP BY nms.customer_id;"
   ]
  },
  {
   "cell_type": "markdown",
   "metadata": {},
   "source": [
    "# Question 9: If each 1 dollar spent equates to 10 points and sushi has a 2x points multiplier - how many points would each customer have? "
   ]
  },
  {
   "cell_type": "code",
   "execution_count": 29,
   "metadata": {},
   "outputs": [
    {
     "name": "stdout",
     "output_type": "stream",
     "text": [
      " * sqlite://\n",
      "Done.\n"
     ]
    },
    {
     "data": {
      "text/html": [
       "<table>\n",
       "    <tr>\n",
       "        <th>customer_id</th>\n",
       "        <th>total_points</th>\n",
       "    </tr>\n",
       "    <tr>\n",
       "        <td>A</td>\n",
       "        <td>860</td>\n",
       "    </tr>\n",
       "    <tr>\n",
       "        <td>B</td>\n",
       "        <td>940</td>\n",
       "    </tr>\n",
       "    <tr>\n",
       "        <td>C</td>\n",
       "        <td>360</td>\n",
       "    </tr>\n",
       "</table>"
      ],
      "text/plain": [
       "[('A', 860), ('B', 940), ('C', 360)]"
      ]
     },
     "execution_count": 29,
     "metadata": {},
     "output_type": "execute_result"
    }
   ],
   "source": [
    "%%sql\n",
    "WITH points AS (\n",
    "    SELECT *,\n",
    "           CASE WHEN product_id = 1 THEN price * 20\n",
    "           ELSE price * 10 END AS total_points\n",
    "    FROM menu)\n",
    "\n",
    "\n",
    "SELECT s.customer_id,\n",
    "       SUM(p.total_points) AS total_points\n",
    "    FROM sales AS s\n",
    "    LEFT JOIN points AS p\n",
    "    ON s.product_id = p.product_id\n",
    "    GROUP BY s.customer_id;"
   ]
  },
  {
   "cell_type": "markdown",
   "metadata": {},
   "source": [
    "# Question 10: In the first week after a customer joins the program (including their join date) they earn 2x points on all items, not just sushi - how many points do customer A and B have at the end of January?"
   ]
  },
  {
   "cell_type": "code",
   "execution_count": 38,
   "metadata": {},
   "outputs": [
    {
     "name": "stdout",
     "output_type": "stream",
     "text": [
      " * sqlite://\n",
      "Done.\n"
     ]
    },
    {
     "data": {
      "text/html": [
       "<table>\n",
       "    <tr>\n",
       "        <th>customer_id</th>\n",
       "        <th>points</th>\n",
       "    </tr>\n",
       "    <tr>\n",
       "        <td>A</td>\n",
       "        <td>1370</td>\n",
       "    </tr>\n",
       "    <tr>\n",
       "        <td>B</td>\n",
       "        <td>940</td>\n",
       "    </tr>\n",
       "</table>"
      ],
      "text/plain": [
       "[('A', 1370), ('B', 940)]"
      ]
     },
     "execution_count": 38,
     "metadata": {},
     "output_type": "execute_result"
    }
   ],
   "source": [
    "%%sql\n",
    "WITH valid_dates AS (\n",
    "    SELECT *, \n",
    "           DATE(join_date, '6 days') AS valid_date, \n",
    "           DATE(join_date,'start of month','+1 month','-1 day') AS last_date\n",
    "    FROM members AS m)\n",
    "\n",
    "SELECT s.customer_id,\n",
    "       SUM(CASE WHEN s.order_date < v.join_date AND m.product_id = 1 THEN m.price * 20\n",
    "       WHEN s.order_date BETWEEN v.join_date AND v.valid_date THEN m.price * 20\n",
    "       ELSE m.price * 10 END) AS points\n",
    "FROM sales AS s\n",
    "JOIN valid_dates AS v\n",
    "ON s.customer_id = v.customer_id\n",
    "JOIN menu AS m\n",
    "ON s.product_id = m.product_id\n",
    "GROUP BY s.customer_id;"
   ]
  },
  {
   "cell_type": "code",
   "execution_count": null,
   "metadata": {},
   "outputs": [],
   "source": []
  }
 ],
 "metadata": {
  "kernelspec": {
   "display_name": "Python 3",
   "language": "python",
   "name": "python3"
  },
  "language_info": {
   "codemirror_mode": {
    "name": "ipython",
    "version": 3
   },
   "file_extension": ".py",
   "mimetype": "text/x-python",
   "name": "python",
   "nbconvert_exporter": "python",
   "pygments_lexer": "ipython3",
   "version": "3.8.1"
  }
 },
 "nbformat": 4,
 "nbformat_minor": 4
}
